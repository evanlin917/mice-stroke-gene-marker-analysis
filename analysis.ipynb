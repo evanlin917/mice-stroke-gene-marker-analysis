{
 "cells": [
  {
   "cell_type": "code",
   "execution_count": 14,
   "id": "75d63f49",
   "metadata": {
    "vscode": {
     "languageId": "r"
    }
   },
   "outputs": [],
   "source": [
    "# Load necessary libraries.\n",
    "library(dplyr)\n",
    "library(tidyr)\n",
    "library(readxl)\n",
    "library(clusterProfiler)\n",
    "library(org.Mm.eg.db)\n",
    "library(GO.db)"
   ]
  },
  {
   "cell_type": "code",
   "execution_count": 15,
   "id": "ff110f73",
   "metadata": {
    "vscode": {
     "languageId": "r"
    }
   },
   "outputs": [],
   "source": [
    "parse_data <- function() {\n",
    "  dataset_file_path <- \"./data/dataset.xlsx\"\n",
    "  dataset_sheet <- \"Sheet1\"\n",
    "\n",
    "  full_data <- NULL\n",
    "  df_2month_final <- data.frame()\n",
    "  df_4month_final <- data.frame()\n",
    "  df_6month_final <- data.frame()\n",
    "\n",
    "  # Read in Excel file dataset.\n",
    "  tryCatch({\n",
    "    # --- Step 1: Load in all the data from the Excel file ---\n",
    "    cat(\"Attempting to read Excel file:\", dataset_file_path, \", \n",
    "      Sheet:\", dataset_sheet, \"\\n\")\n",
    "\n",
    "    if (!file.exists(dataset_file_path)) {\n",
    "      stop(paste(\"File not found at the specified path:\", dataset_file_path, \n",
    "                 \"Current R working directory is:\", getwd()))\n",
    "    }\n",
    "\n",
    "    full_data <- read_excel(dataset_file_path, sheet = dataset_sheet,\n",
    "                            col_types = \"text\", .name_repair = \"minimal\")\n",
    "    cat(\"Excel file read successfully (all columns initially as text).\\n\")\n",
    "    cat(\"Number of columns in full_data after reading:\", ncol(full_data), \"\\n\")\n",
    "\n",
    "    # --- Step 2: Split the data immediately into three dataframes ---\n",
    "    cat(\"--- Splitting data into 2-month, 4-month, and 6-month raw dataframes ---\\n\") #nolint\n",
    "    cols_2month_indices <- 1:8      # A-H\n",
    "    cols_4month_indices <- 10:17    # J-Q\n",
    "    cols_6month_indices <- 19:26    # S-Z\n",
    "\n",
    "    # Helper function to safely select columns.\n",
    "    safe_select_cols <- function(df, col_indices, df_name_desc) {\n",
    "      max_col_needed <- suppressWarnings(max(col_indices, na.rm = TRUE))\n",
    "      actual_cols_in_df <- ncol(df)\n",
    "\n",
    "      cat(\"For\", df_name_desc, \": Attempting to select columns\",\n",
    "          min(col_indices), \"to\", max(col_indices),\n",
    "          \"\\n\\tMax needed:\", max_col_needed, \"\\n\\tActual cols in df:\",\n",
    "          actual_cols_in_df, \"\\n\")\n",
    "\n",
    "      if (actual_cols_in_df >= max_col_needed && length(col_indices) > 0\n",
    "          && all(col_indices > 0)) {\n",
    "        valid_indices <- col_indices[col_indices <= actual_cols_in_df]\n",
    "        if (length(valid_indices) == length(col_indices)) {\n",
    "          selected_df <- df %>% dplyr::select(all_of(valid_indices))\n",
    "          cat(df_name_desc, \"created with columns:\", \n",
    "              paste(names(selected_df), collapse = \", \"), \"\\n\")\n",
    "          return(as.data.frame(selected_df))\n",
    "        } else {\n",
    "          cat(\"Warning: Not all specified column indices for\",\n",
    "              df_name_desc, \"are valid.\\n\\tMax index: \", max_col_needed,\n",
    "              \", available cols: \", actual_cols_in_df, \".\\n\")\n",
    "          return(data.frame())\n",
    "        }\n",
    "      } else {\n",
    "        cat(\"Warning: Cannot create\", df_name_desc,\n",
    "            \"- insufficient columns or invalid indices.\\n\\tNeeds up to\",\n",
    "            max_col_needed, \"columns, available:\", actual_cols_in_df, \".\\n\")\n",
    "        return(data.frame())\n",
    "      }\n",
    "    }\n",
    "\n",
    "    df_2month <- safe_select_cols(full_data, cols_2month_indices,\n",
    "                                  \"Raw 2-Month Dataframe\")\n",
    "    df_4month <- safe_select_cols(full_data, cols_4month_indices,\n",
    "                                  \"Raw 4-Month Dataframe\")\n",
    "    df_6month <- safe_select_cols(full_data, cols_6month_indices,\n",
    "                                  \"Raw 6-Month Dataframe\")\n",
    "\n",
    "    # --- Step 3: Filter out rows with entries \"\" or NA for each dataframe ---\n",
    "    cat(\"--- Filtering completely blank rows from each dataframe ---\\n\")\n",
    "\n",
    "    is_row_entirely_blank <- function(row_vector) {\n",
    "      all(is.na(row_vector) | trimws(as.character(row_vector)) == \"\")\n",
    "    }\n",
    "\n",
    "    filter_blank_rows <- function(df, df_name) {\n",
    "      if (nrow(df) > 0 && ncol(df) > 0) {\n",
    "        rows_to_keep <- !apply(df, 1, is_row_entirely_blank)\n",
    "        cat(\"Filtering blank rows for:\", df_name,\"\\n\\tOriginal rows:\",\n",
    "            nrow(df), \"\\n\\tRows after filtering:\", sum(rows_to_keep), \"\\n\")\n",
    "        return(df[rows_to_keep, , drop = FALSE])\n",
    "      } else {\n",
    "        cat(\"Skipping blank row filtering for:\", df_name,\n",
    "            \"(0 rows or 0 columns).\\n\")\n",
    "        return(df)\n",
    "      }\n",
    "    }\n",
    "\n",
    "    df_2month_final <- filter_blank_rows(df_2month, \"2-Month Data\")\n",
    "    df_4month_final <- filter_blank_rows(df_4month, \"4-Month Data\")\n",
    "    df_6month_final <- filter_blank_rows(df_6month, \"6-Month Data (post-shift)\")\n",
    "\n",
    "    # --- Step 4: Print out final dimensions ---\n",
    "    cat(\"--- Final Data Dimensions (after all cleaning and filtering) ---\\n\")\n",
    "    cat(\"   2-Month Data (df_2month_final): \",\n",
    "        paste(dim(df_2month_final), collapse = \" x \"), \"\\n\")\n",
    "    cat(\"   4-Month Data (df_4month_final): \",\n",
    "        paste(dim(df_4month_final), collapse = \" x \"), \"\\n\")\n",
    "    cat(\"   6-Month Data (df_6month_final): \",\n",
    "        paste(dim(df_6month_final), collapse = \" x \"), \"\\n\")\n",
    "\n",
    "    cat(\"--- Data parsing and cleaning complete. Returning dataframes as a list. ---\\n\") #nolint\n",
    "    return(list(\n",
    "      df_2month = df_2month_final,\n",
    "      df_4month = df_4month_final,\n",
    "      df_6month = df_6month_final\n",
    "    ))\n",
    "  }, error = function(e) {\n",
    "    cat(\"An error occurred within the parse_data function.\\n\")\n",
    "    cat(\"Specific error message from R (conditionMessage(e)):\\n\",\n",
    "        conditionMessage(e), \"\\n\")\n",
    "    cat(\"Full error object (e):\\n\")\n",
    "    print(e)\n",
    "    stop(\n",
    "         paste(\"Stopping due to error in parse_data function. \n",
    "               Original error was:\", conditionMessage(e)))\n",
    "  })\n",
    "}"
   ]
  },
  {
   "cell_type": "code",
   "execution_count": 16,
   "id": "a91e3724",
   "metadata": {
    "vscode": {
     "languageId": "r"
    }
   },
   "outputs": [
    {
     "name": "stdout",
     "output_type": "stream",
     "text": [
      "Attempting to read Excel file: ./data/dataset.xlsx , \n",
      "      Sheet: Sheet1 \n",
      "Excel file read successfully (all columns initially as text).\n",
      "Number of columns in full_data after reading: 27 \n",
      "--- Splitting data into 2-month, 4-month, and 6-month raw dataframes ---\n",
      "For Raw 2-Month Dataframe : Attempting to select columns 1 to 8 \n",
      "\tMax needed: 8 \n",
      "\tActual cols in df: 27 \n",
      "Raw 2-Month Dataframe created with columns: baseMean, log2FoldChange, FC, lfcSE, pvalue, padj, Gene, threshold \n",
      "For Raw 4-Month Dataframe : Attempting to select columns 10 to 17 \n",
      "\tMax needed: 17 \n",
      "\tActual cols in df: 27 \n",
      "Raw 4-Month Dataframe created with columns: baseMean, log2FoldChange, FC, lfcSE, pvalue, padj, Gene, threshold \n",
      "For Raw 6-Month Dataframe : Attempting to select columns 19 to 26 \n",
      "\tMax needed: 26 \n",
      "\tActual cols in df: 27 \n",
      "Raw 6-Month Dataframe created with columns: baseMean, log2FoldChange, FC, lfcSE, pvalue, padj, Gene, threshold \n",
      "--- Filtering completely blank rows from each dataframe ---\n",
      "Filtering blank rows for: 2-Month Data \n",
      "\tOriginal rows: 14551 \n",
      "\tRows after filtering: 12235 \n",
      "Filtering blank rows for: 4-Month Data \n",
      "\tOriginal rows: 14551 \n",
      "\tRows after filtering: 14551 \n",
      "Filtering blank rows for: 6-Month Data (post-shift) \n",
      "\tOriginal rows: 14551 \n",
      "\tRows after filtering: 11583 \n",
      "--- Final Data Dimensions (after all cleaning and filtering) ---\n",
      "   2-Month Data (df_2month_final):  12235 x 8 \n",
      "   4-Month Data (df_4month_final):  14551 x 8 \n",
      "   6-Month Data (df_6month_final):  11583 x 8 \n",
      "--- Data parsing and cleaning complete. Returning dataframes as a list. ---\n",
      "\n",
      "--- Head of Unpacked 2-Month Data ---\n",
      "            baseMean     log2FoldChange                 FC               lfcSE\n",
      "1                  0 2.0842624540000001 4.2405825070129382 0.46225081000000001\n",
      "2 107635.34359999999 1.8588957340000001 3.6272991552412353 0.43477880200000002\n",
      "3 20.727147630000001        1.855875771 3.6197141482144333 0.41278216200000001\n",
      "4 33.358507009999997        1.764239173 3.3969480922660344 0.41807584399999997\n",
      "5        166.6018115        1.683601627 3.2122888516269046 0.27612873399999999\n",
      "6 34.400720059999998 1.6796501500000001 3.2035025746624735         0.329511424\n",
      "                  pvalue                  padj    Gene threshold\n",
      "1  4.1699999999999999E-7 1.8600000000000001E-5  Mterf3       RED\n",
      "2                1.15E-6 4.2200000000000003E-5 mt-Rnr2       RED\n",
      "3  4.2399999999999999E-7               1.88E-5   mt-Tq       RED\n",
      "4                1.31E-6 4.6199999999999998E-5   Rab5a       RED\n",
      "5 6.0400000000000006E-11 2.7999999999999999E-8    Nrn1       RED\n",
      "6                2.03E-8 1.8199999999999999E-6   mt-Ta       RED\n",
      "\n",
      "--- Head of Unpacked 4-Month Data ---\n",
      "            baseMean     log2FoldChange                 FC               lfcSE\n",
      "1        2.868083876 5.2743660879999998 38.702801327448064  2.4771854530000001\n",
      "2 18.245381349999999        3.395684879 10.524537124682785 0.53799130699999997\n",
      "3        11.45832075 3.1108125109999998 8.6386897434325505 0.62540933899999995\n",
      "4        4.198613215        2.625916454 6.1727632271769579         1.257160571\n",
      "5 11.301279149999999        2.603942558 6.0794573625697526 0.58284143300000002\n",
      "6        246.6855462        2.406415376 5.3015542544861924         0.209117633\n",
      "                  pvalue                  padj   Gene threshold\n",
      "1  5.5399999999999998E-5          1.3651188E-2   Car6       RED\n",
      "2 3.9000000000000001E-11 3.7900000000000002E-8  Trib3       RED\n",
      "3  6.6300000000000005E-8 4.0200000000000001E-5 Cyb5r2       RED\n",
      "4  1.8206699999999999E-3   0.16253105500000001  Taf7l      GREY\n",
      "5  5.2300000000000001E-7 2.2793299999999999E-4  Sesn2       RED\n",
      "6 7.3000000000000005E-32              1.06E-27 Cyb5r1       RED\n",
      "\n",
      "--- Head of Unpacked 6-Month Data ---\n",
      "            baseMean     log2FoldChange                 FC               lfcSE\n",
      "1        13.77635104 4.0606012219999998 16.686404539081153 0.94701181199999995\n",
      "2        12.22396006 2.6342519430000002 6.2085309575222718 0.63460555100000005\n",
      "3 19.558478910000002 2.4748420179999999 5.5590641019582367 0.59203570100000003\n",
      "4 12.463960289999999 2.2619580309999998 4.7964201219447373 0.55724181900000003\n",
      "5 34.605719200000003 2.2485025240000001 4.7518935703255654 0.42790254599999999\n",
      "6        11.84139834 2.2436471770000002 4.7359280954071226 0.62481671599999999\n",
      "                 pvalue                  padj   Gene threshold\n",
      "1 9.9800000000000002E-7 9.1799999999999995E-5   Cst7       RED\n",
      "2 2.6400000000000001E-6 1.9802099999999999E-4 Cyb5r2       RED\n",
      "3 1.4899999999999999E-6 1.3071900000000001E-4  Ifit1       RED\n",
      "4 2.6000000000000001E-6 1.9802099999999999E-4  Fibin       RED\n",
      "5 6.2600000000000003E-9 1.3400000000000001E-6  Oasl2       RED\n",
      "6 1.8300000000000001E-5 8.8590000000000001E-4  Ifi44       RED\n"
     ]
    }
   ],
   "source": [
    "processed_data <- parse_data()\n",
    "if (!is.null(processed_data)) {\n",
    "  data_2_month <- processed_data$df_2month\n",
    "  data_4_month <- processed_data$df_4month\n",
    "  data_6_month <- processed_data$df_6month\n",
    "\n",
    "  cat(\"\\n--- Head of Unpacked 2-Month Data ---\\n\")\n",
    "  print(head(data_2_month))\n",
    "\n",
    "  cat(\"\\n--- Head of Unpacked 4-Month Data ---\\n\")\n",
    "  print(head(data_4_month))\n",
    "\n",
    "  cat(\"\\n--- Head of Unpacked 6-Month Data ---\\n\")\n",
    "  print(head(data_6_month))\n",
    "} else {\n",
    "  cat(\"parse_data() did not return any parsed data, \n",
    "      check for errors above.\\n\")\n",
    "}"
   ]
  },
  {
   "cell_type": "code",
   "execution_count": 23,
   "id": "4c17df45",
   "metadata": {
    "vscode": {
     "languageId": "r"
    }
   },
   "outputs": [],
   "source": [
    "map_genes_to_go_cc <- function(gene_symbols_list, organism_db) {\n",
    "  cat(\"--- Mapping gene symbols to Entrez IDs ---\\n\")\n",
    "  entrez_ids <- mapIds(\n",
    "    organism_db, keys = gene_symbols_list, column = \"ENTREZID\",\n",
    "    keytype = \"SYMBOL\", multiVals = \"first\"\n",
    "  )\n",
    "  gene_map <- data.frame(\n",
    "    GeneSymbol = names(entrez_ids), ENTREZID = entrez_ids,\n",
    "    stringsAsFactors = FALSE\n",
    "  )\n",
    "  gene_map <- gene_map %>% dplyr::filter(!is.na(ENTREZID))\n",
    "\n",
    "  if (nrow(gene_map) == 0) {\n",
    "    cat(\"\\tNo Entrez IDs found for the provided symbols. Returning empty map.\\n\") #nolint\n",
    "    return(\n",
    "      data.frame(GeneSymbol = character(), ENTREZID = character(),\n",
    "      GO_Term = character()) # nolint\n",
    "    )\n",
    "  }\n",
    "  cat(paste0(\"\\tFound Entrez IDs for \", nrow(gene_map), \" symbols.\\n\"))\n",
    "\n",
    "  cat(\"--- Mapping Entrez IDs to GO IDs (Cellular Components only) ---\\n\")\n",
    "  go_data <- AnnotationDbi::select(\n",
    "    organism_db, keys = gene_map$ENTREZID,\n",
    "    keytype = \"ENTREZID\", columns = c(\"GO\", \"ONTOLOGY\")\n",
    "  )\n",
    "  go_cc_data <- go_data %>% \n",
    "    dplyr::filter(\n",
    "      ONTOLOGY == \"CC\" & !is.na(GO)\n",
    "    ) %>% \n",
    "    dplyr::select(ENTREZID, GO_ID = GO)\n",
    "  go_ids <- unique(go_cc_data$GO_ID)\n",
    "\n",
    "  if (length(go_ids) > 0) {\n",
    "    cat(\"--- Mapping GO IDs to GO Term Names ---\\n\")\n",
    "    go_terms_map <- AnnotationDbi::select(\n",
    "      GO.db, keys = go_ids, keytype = \"GOID\", columns = \"TERM\"\n",
    "    )\n",
    "    go_terms_map <- go_terms_map %>% dplyr::rename(GO_ID = GOID, GO_Term = TERM)\n",
    "    go_cc_data <- dplyr::left_join(go_cc_data, go_terms_map, by = \"GO_ID\")\n",
    "\n",
    "    cat(\"--- Creating final Gene-to-Cellular Component map ---\\n\")\n",
    "    final_map <- dplyr::left_join(gene_map, go_cc_data, by = \"ENTREZID\")\n",
    "    final_map <- final_map %>%\n",
    "      dplyr::filter(\n",
    "        !is.na(GO_ID) & !is.na(GO_Term)\n",
    "      ) %>%\n",
    "      dplyr::select(\n",
    "        GeneSymbol, ENTREZID, GO_Term\n",
    "      ) %>%\n",
    "      dplyr::distinct()\n",
    "\n",
    "    cat(\"--- Mapping Complete ---\\n\")\n",
    "    return(final_map) # nolint\n",
    "  } else {\n",
    "    cat(\"--- No GO Cellular Component terms found. Returning empty map. ---\\n\")\n",
    "    return(data.frame(GeneSymbol = character(), ENTREZID = character(), GO_Term = character())) # nolint\n",
    "  }\n",
    "}"
   ]
  },
  {
   "cell_type": "code",
   "execution_count": 24,
   "id": "a6858332",
   "metadata": {
    "vscode": {
     "languageId": "r"
    }
   },
   "outputs": [],
   "source": [
    "get_go_term_counts <- function(mapping_df) {\n",
    "  cat(\"--- Counting gene markers per cellular component ---\\n\")\n",
    "\n",
    "  if (exists(\"mapping_df\") && nrow(mapping_df) > 0) {\n",
    "    go_term_counts <- mapping_df %>% \n",
    "      group_by(GO_Term) %>% \n",
    "      summarise(\n",
    "        GeneCount = n_distinct(GeneSymbol),\n",
    "        .groups = \"drop\"\n",
    "      ) %>% \n",
    "      arrange(desc(GeneCount))\n",
    "\n",
    "    cat(\"--- Gene counts dataframe created ---\\n\")\n",
    "    return(go_term_counts) # nolint\n",
    "  } else {\n",
    "    cat(\"--- Cannot create counts: Input dataframe is empty or does not exist. ---\\n\") # nolint\n",
    "    return(data.frame(GO_Term = character(), GeneCount = integer())) # nolint\n",
    "  }\n",
    "}"
   ]
  },
  {
   "cell_type": "code",
   "execution_count": 25,
   "id": "aafb6a2d",
   "metadata": {
    "vscode": {
     "languageId": "r"
    }
   },
   "outputs": [
    {
     "name": "stdout",
     "output_type": "stream",
     "text": [
      "--- Extracting gene symbols from 2, 4, and 6 months dataframes ---\n",
      "\n",
      "\n",
      "--- Processing 2-Month Gene Data ---\n",
      "--- Mapping gene symbols to Entrez IDs ---\n"
     ]
    },
    {
     "name": "stderr",
     "output_type": "stream",
     "text": [
      "'select()' returned 1:1 mapping between keys and columns\n",
      "\n"
     ]
    },
    {
     "name": "stdout",
     "output_type": "stream",
     "text": [
      "\tFound Entrez IDs for 11750 symbols.\n",
      "--- Mapping Entrez IDs to GO IDs (Cellular Components only) ---\n"
     ]
    },
    {
     "name": "stderr",
     "output_type": "stream",
     "text": [
      "'select()' returned 1:many mapping between keys and columns\n",
      "\n"
     ]
    },
    {
     "name": "stdout",
     "output_type": "stream",
     "text": [
      "--- Mapping GO IDs to GO Term Names ---\n"
     ]
    },
    {
     "name": "stderr",
     "output_type": "stream",
     "text": [
      "'select()' returned 1:1 mapping between keys and columns\n",
      "\n"
     ]
    },
    {
     "name": "stdout",
     "output_type": "stream",
     "text": [
      "--- Creating final Gene-to-Cellular Component map ---\n",
      "--- Mapping Complete ---\n",
      "--- Counting gene markers per cellular component ---\n",
      "--- Gene counts dataframe created ---\n",
      "--- Top 10 most populated cellular components (2-Month data) ---\n",
      "\u001b[90m# A tibble: 10 × 2\u001b[39m\n",
      "   GO_Term               GeneCount\n",
      "   \u001b[3m\u001b[90m<chr>\u001b[39m\u001b[23m                     \u001b[3m\u001b[90m<int>\u001b[39m\u001b[23m\n",
      "\u001b[90m 1\u001b[39m cytoplasm                  \u001b[4m3\u001b[24m954\n",
      "\u001b[90m 2\u001b[39m nucleus                    \u001b[4m3\u001b[24m761\n",
      "\u001b[90m 3\u001b[39m cytosol                    \u001b[4m2\u001b[24m959\n",
      "\u001b[90m 4\u001b[39m plasma membrane            \u001b[4m2\u001b[24m561\n",
      "\u001b[90m 5\u001b[39m nucleoplasm                \u001b[4m2\u001b[24m504\n",
      "\u001b[90m 6\u001b[39m membrane                   \u001b[4m1\u001b[24m464\n",
      "\u001b[90m 7\u001b[39m mitochondrion              \u001b[4m1\u001b[24m340\n",
      "\u001b[90m 8\u001b[39m cellular_component          961\n",
      "\u001b[90m 9\u001b[39m endoplasmic reticulum       831\n",
      "\u001b[90m10\u001b[39m Golgi apparatus             801\n",
      "\n",
      "\n",
      "--- Processing 4-Month Gene Data ---\n",
      "--- Mapping gene symbols to Entrez IDs ---\n"
     ]
    },
    {
     "name": "stderr",
     "output_type": "stream",
     "text": [
      "'select()' returned 1:1 mapping between keys and columns\n",
      "\n"
     ]
    },
    {
     "name": "stdout",
     "output_type": "stream",
     "text": [
      "\tFound Entrez IDs for 13895 symbols.\n",
      "--- Mapping Entrez IDs to GO IDs (Cellular Components only) ---\n"
     ]
    },
    {
     "name": "stderr",
     "output_type": "stream",
     "text": [
      "'select()' returned 1:many mapping between keys and columns\n",
      "\n"
     ]
    },
    {
     "name": "stdout",
     "output_type": "stream",
     "text": [
      "--- Mapping GO IDs to GO Term Names ---\n"
     ]
    },
    {
     "name": "stderr",
     "output_type": "stream",
     "text": [
      "'select()' returned 1:1 mapping between keys and columns\n",
      "\n"
     ]
    },
    {
     "name": "stdout",
     "output_type": "stream",
     "text": [
      "--- Creating final Gene-to-Cellular Component map ---\n",
      "--- Mapping Complete ---\n",
      "--- Counting gene markers per cellular component ---\n",
      "--- Gene counts dataframe created ---\n",
      "--- Top 10 most populated cellular components (4-Month data) ---\n",
      "\u001b[90m# A tibble: 10 × 2\u001b[39m\n",
      "   GO_Term               GeneCount\n",
      "   \u001b[3m\u001b[90m<chr>\u001b[39m\u001b[23m                     \u001b[3m\u001b[90m<int>\u001b[39m\u001b[23m\n",
      "\u001b[90m 1\u001b[39m cytoplasm                  \u001b[4m4\u001b[24m446\n",
      "\u001b[90m 2\u001b[39m nucleus                    \u001b[4m4\u001b[24m196\n",
      "\u001b[90m 3\u001b[39m cytosol                    \u001b[4m3\u001b[24m263\n",
      "\u001b[90m 4\u001b[39m plasma membrane            \u001b[4m2\u001b[24m998\n",
      "\u001b[90m 5\u001b[39m nucleoplasm                \u001b[4m2\u001b[24m763\n",
      "\u001b[90m 6\u001b[39m membrane                   \u001b[4m1\u001b[24m670\n",
      "\u001b[90m 7\u001b[39m mitochondrion              \u001b[4m1\u001b[24m454\n",
      "\u001b[90m 8\u001b[39m cellular_component         \u001b[4m1\u001b[24m424\n",
      "\u001b[90m 9\u001b[39m endoplasmic reticulum       913\n",
      "\u001b[90m10\u001b[39m Golgi apparatus             888\n",
      "\n",
      "\n",
      "--- Processing 6-Month Gene Data ---\n",
      "--- Mapping gene symbols to Entrez IDs ---\n"
     ]
    },
    {
     "name": "stderr",
     "output_type": "stream",
     "text": [
      "'select()' returned 1:1 mapping between keys and columns\n",
      "\n"
     ]
    },
    {
     "name": "stdout",
     "output_type": "stream",
     "text": [
      "\tFound Entrez IDs for 11143 symbols.\n",
      "--- Mapping Entrez IDs to GO IDs (Cellular Components only) ---\n"
     ]
    },
    {
     "name": "stderr",
     "output_type": "stream",
     "text": [
      "'select()' returned 1:many mapping between keys and columns\n",
      "\n"
     ]
    },
    {
     "name": "stdout",
     "output_type": "stream",
     "text": [
      "--- Mapping GO IDs to GO Term Names ---\n"
     ]
    },
    {
     "name": "stderr",
     "output_type": "stream",
     "text": [
      "'select()' returned 1:1 mapping between keys and columns\n",
      "\n"
     ]
    },
    {
     "name": "stdout",
     "output_type": "stream",
     "text": [
      "--- Creating final Gene-to-Cellular Component map ---\n",
      "--- Mapping Complete ---\n",
      "--- Counting gene markers per cellular component ---\n",
      "--- Gene counts dataframe created ---\n",
      "--- Top 10 most populated cellular components (6-Month data) ---\n",
      "\u001b[90m# A tibble: 10 × 2\u001b[39m\n",
      "   GO_Term               GeneCount\n",
      "   \u001b[3m\u001b[90m<chr>\u001b[39m\u001b[23m                     \u001b[3m\u001b[90m<int>\u001b[39m\u001b[23m\n",
      "\u001b[90m 1\u001b[39m cytoplasm                  \u001b[4m3\u001b[24m798\n",
      "\u001b[90m 2\u001b[39m nucleus                    \u001b[4m3\u001b[24m617\n",
      "\u001b[90m 3\u001b[39m cytosol                    \u001b[4m2\u001b[24m858\n",
      "\u001b[90m 4\u001b[39m nucleoplasm                \u001b[4m2\u001b[24m436\n",
      "\u001b[90m 5\u001b[39m plasma membrane            \u001b[4m2\u001b[24m423\n",
      "\u001b[90m 6\u001b[39m membrane                   \u001b[4m1\u001b[24m399\n",
      "\u001b[90m 7\u001b[39m mitochondrion              \u001b[4m1\u001b[24m298\n",
      "\u001b[90m 8\u001b[39m cellular_component          838\n",
      "\u001b[90m 9\u001b[39m endoplasmic reticulum       804\n",
      "\u001b[90m10\u001b[39m Golgi apparatus             781\n"
     ]
    }
   ],
   "source": [
    "# --- Step 1: Extract gene symbols for each dataframe ---\n",
    "cat(\"--- Extracting gene symbols from 2, 4, and 6 months dataframes ---\\n\")\n",
    "genes_2_month <- data_2_month$Gene\n",
    "genes_4_month <- data_4_month$Gene\n",
    "genes_6_month <- data_6_month$Gene\n",
    "\n",
    "cat(\"\\n\\n--- Processing 2-Month Gene Data ---\\n\")\n",
    "final_2_month_map <- map_genes_to_go_cc(genes_2_month, org.Mm.eg.db)\n",
    "go_term_counts_2m <- get_go_term_counts(final_2_month_map)\n",
    "cat(\"--- Top 10 most populated cellular components (2-Month data) ---\\n\")\n",
    "print(head(go_term_counts_2m, 10))\n",
    "\n",
    "cat(\"\\n\\n--- Processing 4-Month Gene Data ---\\n\")\n",
    "final_4_month_map <- map_genes_to_go_cc(genes_4_month, org.Mm.eg.db)\n",
    "go_term_counts_4m <- get_go_term_counts(final_4_month_map)\n",
    "cat(\"--- Top 10 most populated cellular components (4-Month data) ---\\n\")\n",
    "print(head(go_term_counts_4m, 10))\n",
    "\n",
    "cat(\"\\n\\n--- Processing 6-Month Gene Data ---\\n\")\n",
    "final_6_month_map <- map_genes_to_go_cc(genes_6_month, org.Mm.eg.db)\n",
    "go_term_counts_6m <- get_go_term_counts(final_6_month_map)\n",
    "cat(\"--- Top 10 most populated cellular components (6-Month data) ---\\n\")\n",
    "print(head(go_term_counts_6m, 10))"
   ]
  }
 ],
 "metadata": {
  "kernelspec": {
   "display_name": "R",
   "language": "R",
   "name": "ir"
  },
  "language_info": {
   "codemirror_mode": "r",
   "file_extension": ".r",
   "mimetype": "text/x-r-source",
   "name": "R",
   "pygments_lexer": "r",
   "version": "4.5.0"
  }
 },
 "nbformat": 4,
 "nbformat_minor": 5
}
